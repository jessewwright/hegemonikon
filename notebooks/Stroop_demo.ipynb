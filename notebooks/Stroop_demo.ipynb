{
 "cells": [
  {
   "cell_type": "markdown",
   "metadata": {},
   "source": [
    "# Stroop Task Demonstration\n",
    "\n",
    "This notebook demonstrates the implementation of the Stroop task using the NES framework."
   ]
  },
  {
   "cell_type": "code",
   "execution_count": null,
   "metadata": {},
   "source": [
    "# Import necessary modules\n",
    "from nes.comparator import Comparator\n",
    "from nes.assent_gate import AssentGate\n",
    "from nes.raa import RAA\n",
    "from nes.norm_repository import NormRepository\n",
    "import json\n",
    "import pandas as pd\n",
    "import matplotlib.pyplot as plt\n",
    "\n",
    "# Load default parameters\n",
    "with open('../params/stroop_default.json', 'r') as f:\n",
    "    params = json.load(f)"
   ]
  },
  {
   "cell_type": "code",
   "execution_count": null,
   "metadata": {},
   "source": [
    "# Initialize components\n",
    "comparator = Comparator(**params)\n",
    "assent_gate = AssentGate()\n",
    "raa = RAA()\n",
    "norm_repo = NormRepository()"
   ]
  },
  {
   "cell_type": "code",
   "execution_count": null,
   "metadata": {},
   "source": [
    "# Run simulation\n",
    "results = []\n",
    "for trial in range(10):  # Example number of trials\n",
    "    trial_result = {\n",
    "        'trial': trial,\n",
    "        'comparator_output': comparator.run_trial(),\n",
    "        'assent_gate_output': assent_gate.process_input(1.0),\n",
    "        'raa_output': raa.update(1.0)\n",
    "    }\n",
    "    results.append(trial_result)\n",
    "\n",
    "df = pd.DataFrame(results)"
   ]
  },
  {
   "cell_type": "code",
   "execution_count": null,
   "metadata": {},
   "source": [
    "# Plot results\n",
    "plt.figure(figsize=(10, 6))\n",
    "plt.plot(df['trial'], df['comparator_output'], label='Comparator')\n",
    "plt.plot(df['trial'], df['assent_gate_output'], label='Assent Gate')\n",
    "plt.plot(df['trial'], df['raa_output'], label='RAA')\n",
    "plt.xlabel('Trial Number')\n",
    "plt.ylabel('Output Value')\n",
    "plt.title('Stroop Task Simulation Results')\n",
    "plt.legend()\n",
    "plt.show()"
   ]
  }
 ],
 "metadata": {
  "kernelspec": {
   "display_name": "Python 3",
   "language": "python",
   "name": "python3"
  },
  "language_info": {
   "codemirror_mode": {
    "name": "ipython",
    "version": 3
   },
   "file_extension": ".py",
   "mimetype": "text/x-python",
   "name": "python",
   "nbconvert_exporter": "python",
   "pygments_lexer": "ipython3",
   "version": "3.8.0"
  }
 },
 "nbformat": 4,
 "nbformat_minor": 4
}
