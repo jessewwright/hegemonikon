{
 "cells": [
  {
   "cell_type": "code",
   "execution_count": 6,
   "id": "e74a4035-c072-4f5b-a4ac-642a167b2c6f",
   "metadata": {},
   "outputs": [
    {
     "name": "stdout",
     "output_type": "stream",
     "text": [
      "Detected Project Root (current working directory): C:\\Users\\jesse\\Hegemonikon Project\\hegemonikon\n",
      "Project root already in sys.path.\n",
      "Expected nes directory: C:\\Users\\jesse\\Hegemonikon Project\\hegemonikon\\nes\n",
      "Does nes directory exist? True\n"
     ]
    }
   ],
   "source": [
    "import sys\n",
    "import os\n",
    "\n",
    "# Get the absolute path of the current notebook's directory\n",
    "# Since you started Jupyter from 'hegemonikon', this IS the project root\n",
    "project_root = os.getcwd()\n",
    "print(f\"Detected Project Root (current working directory): {project_root}\")\n",
    "\n",
    "# Add the project root to the Python path if it's not already there\n",
    "if project_root not in sys.path:\n",
    "    sys.path.append(project_root)\n",
    "    print(f\"Added project root to sys.path: {project_root}\")\n",
    "else:\n",
    "    print(\"Project root already in sys.path.\")\n",
    "\n",
    "# Verify that the nes directory is now potentially reachable relative to the project root\n",
    "nes_dir = os.path.join(project_root, 'nes')\n",
    "print(f\"Expected nes directory: {nes_dir}\")\n",
    "print(f\"Does nes directory exist? {os.path.isdir(nes_dir)}\")\n",
    "\n"
   ]
  },
  {
   "cell_type": "code",
   "execution_count": 10,
   "id": "0ae72a52-c46a-4222-9777-11b20bf37208",
   "metadata": {},
   "outputs": [
    {
     "name": "stdout",
     "output_type": "stream",
     "text": [
      "\n",
      "Running the Stroop simulation script...\n",
      "Successfully imported individual NES components.\n",
      "Starting NES Stroop Simulation (Base Run with Fitted Params)\n",
      "Parameters: {'w_s': 1.135, 'w_n': 0.348, 'w_u': 0.0, 'noise_std_dev': 0.42, 'base_threshold': 1.263, 'dt': 0.01, 'max_time': 3.0, 'collapse_type': 'linear', 'collapse_rate': 0.421, 'norm_strength': 1.0, 'salience_congruent': array([1. , 0.1]), 'salience_incongruent': array([0.1, 1. ]), 'raa_time_trigger_factor': 0.6, 'raa_max_cycles': 0, 'raa_urgency_boost': 0.0}\n",
      "NES Components (Comparator, AssentGate) initialized.\n",
      "\n",
      "Running 500 Congruent trials...\n",
      "  Completed 100/500 trials.\n",
      "  Completed 200/500 trials.\n",
      "  Completed 300/500 trials.\n",
      "  Completed 400/500 trials.\n",
      "  Completed 500/500 trials.\n",
      "\n",
      "Running 500 Incongruent trials...\n",
      "  Completed 100/500 trials.\n",
      "  Completed 200/500 trials.\n",
      "  Completed 300/500 trials.\n",
      "  Completed 400/500 trials.\n",
      "  Completed 500/500 trials.\n",
      "\n",
      "--- Simulation Results ---\n",
      "Empty DataFrame\n",
      "Columns: [mean_rt, accuracy, count]\n",
      "Index: []\n",
      "\n",
      "Total Timeouts: 1000 / 1000\n",
      "\n",
      "Could not calculate Stroop effect (missing one or both conditions in results).\n",
      "\n",
      "--- Comparison with Report (Fitted Model Values) ---\n",
      "\n",
      "Simulation Finished.\n",
      "\n",
      "Script execution finished.\n"
     ]
    }
   ],
   "source": [
    "print(\"\\nRunning the Stroop simulation script...\")\n",
    "# The path is relative to the project root directory\n",
    "# (where Jupyter was started and which we added to sys.path)\n",
    "# Or relative to the notebook directory if you prefer: '../nes/nes_sim_stroop_base.py'\n",
    "%run nes/nes_sim_stroop_base.py\n",
    "print(\"\\nScript execution finished.\")"
   ]
  },
  {
   "cell_type": "code",
   "execution_count": null,
   "id": "f08e2b16-2290-4ac5-8ab1-e7ee0ae62dd9",
   "metadata": {},
   "outputs": [],
   "source": []
  }
 ],
 "metadata": {
  "kernelspec": {
   "display_name": "Python [conda env:base] *",
   "language": "python",
   "name": "conda-base-py"
  },
  "language_info": {
   "codemirror_mode": {
    "name": "ipython",
    "version": 3
   },
   "file_extension": ".py",
   "mimetype": "text/x-python",
   "name": "python",
   "nbconvert_exporter": "python",
   "pygments_lexer": "ipython3",
   "version": "3.12.3"
  }
 },
 "nbformat": 4,
 "nbformat_minor": 5
}
